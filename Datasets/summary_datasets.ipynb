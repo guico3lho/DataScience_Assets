{
 "cells": [
  {
   "cell_type": "code",
   "execution_count": 5,
   "metadata": {
    "collapsed": true
   },
   "outputs": [
    {
     "name": "stdout",
     "output_type": "stream",
     "text": [
      "C:\\Users\\Guilherme\\.conda\\envs\\nlp\\python.exe\n",
      "C:\\Users\\Guilherme\\Documents\\Programming\\Python\\DataScience\\DataScience_Assets\\Datasets\n"
     ]
    }
   ],
   "source": [
    "import json\n",
    "import pandas as pd\n",
    "import os\n",
    "import sys\n",
    "\n",
    "print(sys.executable)\n",
    "print(os.getcwd())"
   ]
  },
  {
   "cell_type": "code",
   "execution_count": 38,
   "outputs": [
    {
     "data": {
      "text/plain": "                  topic                                              title  \\\n0               Mercado  Ibovespa segue exterior e amplia alta; Marfrig...   \n1              Negócios  Radar: Santander (SANB11) paga dividendos bili...   \n2              Negócios  Vale (VALE3) diminui estimativa das reservas d...   \n3               Mercado  Ibovespa estável em 103 mil pontos; Magazine L...   \n4               Mercado  Ibovespa cai, aos 99,4 mil pontos; Petrobras (...   \n...                 ...                                                ...   \n1208            Mercado  Ibovespa fecha em alta de 0,83% seguindo dispa...   \n1209            Mercado  Ibovespa fecha sexta com queda de -1,4%; dólar...   \n1210           Negócios  Terça-feira em negócios: acordo de R$ 2,5bi da...   \n1211           Economia  Balanço da Vale mostra lucro liquido de R$ 5,7...   \n1212  Finanças Pessoais  XP Investimentos aponta as escolhas da semana:...   \n\n                  date          search_date  \\\n0     19/07/2022 11:50  2022-08-04 00:12:08   \n1     01/02/2022 20:56  2022-08-04 00:12:08   \n2     15/04/2022 12:19  2022-08-04 00:12:08   \n3     03/08/2022 10:49  2022-08-04 00:12:08   \n4     26/07/2022 10:43  2022-08-04 00:12:08   \n...                ...                  ...   \n1208  25/09/2018 17:42  2022-05-03 16:49:22   \n1209  23/11/2018 18:49  2022-05-03 16:49:25   \n1210  11/09/2018 12:20  2022-05-03 16:49:25   \n1211  24/10/2018 18:59  2022-05-03 16:49:28   \n1212  28/08/2018 11:34  2022-05-03 16:49:28   \n\n                                                    url  \\\n0     https://www.suno.com.br/noticias/ibovespa-hoje...   \n1     https://www.suno.com.br/noticias/radar-santand...   \n2     https://www.suno.com.br/noticias/vale-vale3-re...   \n3     https://www.suno.com.br/noticias/ibovespa-hoje...   \n4     https://www.suno.com.br/noticias/ibovespa-hoje...   \n...                                                 ...   \n1208  https://www.suno.com.br/noticias/ibovespa-alta...   \n1209  https://www.suno.com.br/noticias/ibovespa-ence...   \n1210  https://www.suno.com.br/noticias/negocios-acor...   \n1211  https://www.suno.com.br/noticias/balanco-da-va...   \n1212  https://www.suno.com.br/noticias/xp-investimen...   \n\n                                                   tags  \n0     [Ibovespa, Embraer (EMBR3), Fleury (FLRY3), Go...  \n1     [Petrobras (PETR4), BRF (BRFS3), Embraer (EMBR...  \n2                          [Vale (VALE3), Vale (VALE3)]  \n3     [Ibovespa, Cielo (CIEL3), Engie (EGIE3), Gerda...  \n4     [Ibovespa, 3R Petroleum (RRRP3), Ibovespa, Ibo...  \n...                                                 ...  \n1208                                     [Vale (VALE3)]  \n1209  [Bolsa de Valores, dólar, Ibovespa, Jair Bolso...  \n1210  [Azul, BB Seguridade (BBSE3), Bradespar (BRAP3...  \n1211                                     [Vale (VALE3)]  \n1212  [Bradesco (BBDC3/BBDC4), Carteiras recomendada...  \n\n[1213 rows x 6 columns]",
      "text/html": "<div>\n<style scoped>\n    .dataframe tbody tr th:only-of-type {\n        vertical-align: middle;\n    }\n\n    .dataframe tbody tr th {\n        vertical-align: top;\n    }\n\n    .dataframe thead th {\n        text-align: right;\n    }\n</style>\n<table border=\"1\" class=\"dataframe\">\n  <thead>\n    <tr style=\"text-align: right;\">\n      <th></th>\n      <th>topic</th>\n      <th>title</th>\n      <th>date</th>\n      <th>search_date</th>\n      <th>url</th>\n      <th>tags</th>\n    </tr>\n  </thead>\n  <tbody>\n    <tr>\n      <th>0</th>\n      <td>Mercado</td>\n      <td>Ibovespa segue exterior e amplia alta; Marfrig...</td>\n      <td>19/07/2022 11:50</td>\n      <td>2022-08-04 00:12:08</td>\n      <td>https://www.suno.com.br/noticias/ibovespa-hoje...</td>\n      <td>[Ibovespa, Embraer (EMBR3), Fleury (FLRY3), Go...</td>\n    </tr>\n    <tr>\n      <th>1</th>\n      <td>Negócios</td>\n      <td>Radar: Santander (SANB11) paga dividendos bili...</td>\n      <td>01/02/2022 20:56</td>\n      <td>2022-08-04 00:12:08</td>\n      <td>https://www.suno.com.br/noticias/radar-santand...</td>\n      <td>[Petrobras (PETR4), BRF (BRFS3), Embraer (EMBR...</td>\n    </tr>\n    <tr>\n      <th>2</th>\n      <td>Negócios</td>\n      <td>Vale (VALE3) diminui estimativa das reservas d...</td>\n      <td>15/04/2022 12:19</td>\n      <td>2022-08-04 00:12:08</td>\n      <td>https://www.suno.com.br/noticias/vale-vale3-re...</td>\n      <td>[Vale (VALE3), Vale (VALE3)]</td>\n    </tr>\n    <tr>\n      <th>3</th>\n      <td>Mercado</td>\n      <td>Ibovespa estável em 103 mil pontos; Magazine L...</td>\n      <td>03/08/2022 10:49</td>\n      <td>2022-08-04 00:12:08</td>\n      <td>https://www.suno.com.br/noticias/ibovespa-hoje...</td>\n      <td>[Ibovespa, Cielo (CIEL3), Engie (EGIE3), Gerda...</td>\n    </tr>\n    <tr>\n      <th>4</th>\n      <td>Mercado</td>\n      <td>Ibovespa cai, aos 99,4 mil pontos; Petrobras (...</td>\n      <td>26/07/2022 10:43</td>\n      <td>2022-08-04 00:12:08</td>\n      <td>https://www.suno.com.br/noticias/ibovespa-hoje...</td>\n      <td>[Ibovespa, 3R Petroleum (RRRP3), Ibovespa, Ibo...</td>\n    </tr>\n    <tr>\n      <th>...</th>\n      <td>...</td>\n      <td>...</td>\n      <td>...</td>\n      <td>...</td>\n      <td>...</td>\n      <td>...</td>\n    </tr>\n    <tr>\n      <th>1208</th>\n      <td>Mercado</td>\n      <td>Ibovespa fecha em alta de 0,83% seguindo dispa...</td>\n      <td>25/09/2018 17:42</td>\n      <td>2022-05-03 16:49:22</td>\n      <td>https://www.suno.com.br/noticias/ibovespa-alta...</td>\n      <td>[Vale (VALE3)]</td>\n    </tr>\n    <tr>\n      <th>1209</th>\n      <td>Mercado</td>\n      <td>Ibovespa fecha sexta com queda de -1,4%; dólar...</td>\n      <td>23/11/2018 18:49</td>\n      <td>2022-05-03 16:49:25</td>\n      <td>https://www.suno.com.br/noticias/ibovespa-ence...</td>\n      <td>[Bolsa de Valores, dólar, Ibovespa, Jair Bolso...</td>\n    </tr>\n    <tr>\n      <th>1210</th>\n      <td>Negócios</td>\n      <td>Terça-feira em negócios: acordo de R$ 2,5bi da...</td>\n      <td>11/09/2018 12:20</td>\n      <td>2022-05-03 16:49:25</td>\n      <td>https://www.suno.com.br/noticias/negocios-acor...</td>\n      <td>[Azul, BB Seguridade (BBSE3), Bradespar (BRAP3...</td>\n    </tr>\n    <tr>\n      <th>1211</th>\n      <td>Economia</td>\n      <td>Balanço da Vale mostra lucro liquido de R$ 5,7...</td>\n      <td>24/10/2018 18:59</td>\n      <td>2022-05-03 16:49:28</td>\n      <td>https://www.suno.com.br/noticias/balanco-da-va...</td>\n      <td>[Vale (VALE3)]</td>\n    </tr>\n    <tr>\n      <th>1212</th>\n      <td>Finanças Pessoais</td>\n      <td>XP Investimentos aponta as escolhas da semana:...</td>\n      <td>28/08/2018 11:34</td>\n      <td>2022-05-03 16:49:28</td>\n      <td>https://www.suno.com.br/noticias/xp-investimen...</td>\n      <td>[Bradesco (BBDC3/BBDC4), Carteiras recomendada...</td>\n    </tr>\n  </tbody>\n</table>\n<p>1213 rows × 6 columns</p>\n</div>"
     },
     "execution_count": 38,
     "metadata": {},
     "output_type": "execute_result"
    }
   ],
   "source": [
    "json_data_path = 'financial_market/suno/suno-vale3.json'\n",
    "\n",
    "with open(json_data_path, 'r', encoding='utf8') as json_file:\n",
    "    data = json.load(json_file)\n",
    "\n",
    "df_suno_raw = pd.DataFrame(data)\n",
    "df_suno_raw"
   ],
   "metadata": {
    "collapsed": false
   }
  },
  {
   "cell_type": "code",
   "execution_count": 30,
   "outputs": [],
   "source": [
    "os.chdir('..')"
   ],
   "metadata": {
    "collapsed": false
   }
  },
  {
   "cell_type": "code",
   "execution_count": 31,
   "outputs": [
    {
     "data": {
      "text/plain": "'C:\\\\Users\\\\Guilherme\\\\Documents\\\\Programming\\\\Python\\\\DataScience\\\\DataScience_Assets\\\\Datasets'"
     },
     "execution_count": 31,
     "metadata": {},
     "output_type": "execute_result"
    }
   ],
   "source": [
    "os.getcwd()"
   ],
   "metadata": {
    "collapsed": false
   }
  }
 ],
 "metadata": {
  "kernelspec": {
   "display_name": "Python 3",
   "language": "python",
   "name": "python3"
  },
  "language_info": {
   "codemirror_mode": {
    "name": "ipython",
    "version": 2
   },
   "file_extension": ".py",
   "mimetype": "text/x-python",
   "name": "python",
   "nbconvert_exporter": "python",
   "pygments_lexer": "ipython2",
   "version": "2.7.6"
  }
 },
 "nbformat": 4,
 "nbformat_minor": 0
}
